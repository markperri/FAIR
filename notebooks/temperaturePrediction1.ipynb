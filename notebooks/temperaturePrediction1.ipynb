{
 "cells": [
  {
   "cell_type": "markdown",
   "metadata": {},
   "source": [
    "# FaIR\n",
    "\n",
    "This notebook gives some simple examples of how to run and use the Finite Amplitude Impulse Response (FaIR) model. \n",
    "\n",
    "The  Finite  Amplitude  Impulse  Response  (FaIR)  model  is  a  simple emissions-based climate model. It allows the user to input emissions of greenhouse gases and short lived climate forcers in order to estimate global mean atmospheric GHG concentrations, radiative forcing and temperature anomalies.\n",
    "\n",
    "The original FaIR model (v1.0) was developed to simulate the earth system response to CO$_2$ emissions, with all non-CO$_2$ forcing implemented as an \"external\" source. It was developed by Richard Millar, Zebedee Nicholls, Pierre Friedlingstein and Myles Allen. The motivation for developing it and its formulation is documented in  a  paper  published  in  Atmospheric  Chemistry  and  Physics  in  2017 (doi:10.5194/acp-2016-405).\n",
    "\n",
    "The emissions-based model extends FaIR by replacing all sources of non-CO$_2$ forcing with relationships that are based on the source emissions, with the exception of natural forcings (viz. variations in solar irradiance and volcanic eruptions). It is useful for assessing future policy commitments to anthropogenic emissions (something which we can control) than to radiative forcing (something which is less certain and which we can only partially control).\n",
    "\n",
    "The emissions based model was developed by Chris Smith with input from Piers Forster, Leighton Regayre and Giovanni Passerello, in parallel with Nicolas Leach, Richard Millar and Myles Allen."
   ]
  },
  {
   "cell_type": "code",
   "execution_count": null,
   "metadata": {},
   "outputs": [],
   "source": [
    "%matplotlib inline"
   ]
  },
  {
   "cell_type": "code",
   "execution_count": null,
   "metadata": {},
   "outputs": [],
   "source": [
    "import fair"
   ]
  },
  {
   "cell_type": "code",
   "execution_count": null,
   "metadata": {},
   "outputs": [],
   "source": [
    "import numpy as np\n",
    "\n",
    "from matplotlib import pyplot as plt\n",
    "plt.style.use('seaborn-darkgrid')\n",
    "plt.rcParams['figure.figsize'] = (16, 9)"
   ]
  },
  {
   "cell_type": "markdown",
   "metadata": {},
   "source": [
    "## Basic run\n",
    "\n",
    "Here we show how FaIR can be run with step change CO$_2$ emissions and sinusoidal non-CO$_2$ forcing timeseries."
   ]
  },
  {
   "cell_type": "code",
   "execution_count": null,
   "metadata": {},
   "outputs": [],
   "source": [
    "# set all carbon emission to zero\n",
    "emissions = np.zeros(500)\n",
    "\n",
    "#set carbon emissions to 10Gt per year at year 125\n",
    "emissions[125:] = 10.0\n",
    "\n",
    "\n",
    "#setup a sinusoidal forcing (14 year period? Due to sunspots etc)\n",
    "other_rf = np.zeros(emissions.size)\n",
    "for x in range(0, emissions.size):\n",
    "    other_rf[x] = 0.5 * np.sin(2 * np.pi * (x) / 14.0)\n",
    "\n",
    "# run the climate model forward in time (prediction mode)\n",
    "C,F,T = fair.forward.fair_scm(\n",
    "    emissions=emissions,\n",
    "    other_rf=other_rf,\n",
    "    useMultigas=False\n",
    ")\n",
    "\n",
    "fig = plt.figure()\n",
    "ax1 = fig.add_subplot(221)\n",
    "ax1.plot(range(0, emissions.size), emissions, color='black')\n",
    "ax1.set_ylabel('Emissions (GtC)')\n",
    "ax2 = fig.add_subplot(222)\n",
    "ax2.plot(range(0, emissions.size), C, color='blue')\n",
    "ax2.set_ylabel('CO$_2$ concentrations (ppm)')\n",
    "ax3 = fig.add_subplot(223)\n",
    "ax3.plot(range(0, emissions.size), other_rf, color='orange')\n",
    "ax3.set_ylabel('Other radiative forcing (W.m$^{-2}$)')\n",
    "ax4 = fig.add_subplot(224)\n",
    "ax4.plot(range(0, emissions.size), T, color='red')\n",
    "ax4.set_ylabel('Temperature anomaly (K)');"
   ]
  }
 ],
 "metadata": {
  "kernelspec": {
   "display_name": "Python 3",
   "language": "python",
   "name": "python3"
  },
  "language_info": {
   "codemirror_mode": {
    "name": "ipython",
    "version": 3
   },
   "file_extension": ".py",
   "mimetype": "text/x-python",
   "name": "python",
   "nbconvert_exporter": "python",
   "pygments_lexer": "ipython3",
   "version": "3.8.6"
  }
 },
 "nbformat": 4,
 "nbformat_minor": 2
}
